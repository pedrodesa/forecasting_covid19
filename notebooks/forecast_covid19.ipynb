{
 "cells": [
  {
   "cell_type": "markdown",
   "id": "3b063ef1-dba4-4918-b3f1-8fff9cb884a0",
   "metadata": {},
   "source": [
    "# Forecasting casos leves de COVID-19"
   ]
  },
  {
   "cell_type": "code",
   "execution_count": 11,
   "id": "fec79055-6f77-46f3-ad0e-a04e86c0b49e",
   "metadata": {},
   "outputs": [],
   "source": [
    "# Bibliotecas\n",
    "import pandas as pd\n",
    "import numpy as np\n",
    "import matplotlib.pyplot as plt\n",
    "from epiweeks import Week"
   ]
  },
  {
   "cell_type": "markdown",
   "id": "17f83d2c-6271-4ad2-b702-7bcae2cab3ab",
   "metadata": {},
   "source": [
    "# Dados"
   ]
  },
  {
   "cell_type": "code",
   "execution_count": 4,
   "id": "b46a273e-df8b-479d-83d7-62e346057167",
   "metadata": {},
   "outputs": [],
   "source": [
    "df = pd.read_csv('../data/processed/dados.csv', delimiter = ';')"
   ]
  },
  {
   "cell_type": "code",
   "execution_count": 5,
   "id": "b730c7f6-6655-4283-81a2-82708fe86372",
   "metadata": {},
   "outputs": [
    {
     "data": {
      "text/html": [
       "<div>\n",
       "<style scoped>\n",
       "    .dataframe tbody tr th:only-of-type {\n",
       "        vertical-align: middle;\n",
       "    }\n",
       "\n",
       "    .dataframe tbody tr th {\n",
       "        vertical-align: top;\n",
       "    }\n",
       "\n",
       "    .dataframe thead th {\n",
       "        text-align: right;\n",
       "    }\n",
       "</style>\n",
       "<table border=\"1\" class=\"dataframe\">\n",
       "  <thead>\n",
       "    <tr style=\"text-align: right;\">\n",
       "      <th></th>\n",
       "      <th>Unnamed: 0</th>\n",
       "      <th>id</th>\n",
       "      <th>dataInicioSintomas</th>\n",
       "      <th>dataNotificacao</th>\n",
       "      <th>dataAtualizacao</th>\n",
       "      <th>dataEncerramento</th>\n",
       "      <th>dataRegistro</th>\n",
       "      <th>regiao</th>\n",
       "      <th>estadoIBGE</th>\n",
       "      <th>idade</th>\n",
       "    </tr>\n",
       "  </thead>\n",
       "  <tbody>\n",
       "    <tr>\n",
       "      <th>0</th>\n",
       "      <td>1</td>\n",
       "      <td>uVOUpcAwja</td>\n",
       "      <td>2023-11-25</td>\n",
       "      <td>2023-11-27</td>\n",
       "      <td>2023-12-12</td>\n",
       "      <td>2023-12-12</td>\n",
       "      <td>2023-11-27</td>\n",
       "      <td>1</td>\n",
       "      <td>12</td>\n",
       "      <td>25.0</td>\n",
       "    </tr>\n",
       "    <tr>\n",
       "      <th>1</th>\n",
       "      <td>2</td>\n",
       "      <td>Cg7XavXuQq</td>\n",
       "      <td>2023-12-01</td>\n",
       "      <td>2023-12-05</td>\n",
       "      <td>2023-12-12</td>\n",
       "      <td>2023-12-11</td>\n",
       "      <td>2023-12-07</td>\n",
       "      <td>1</td>\n",
       "      <td>13</td>\n",
       "      <td>26.0</td>\n",
       "    </tr>\n",
       "    <tr>\n",
       "      <th>2</th>\n",
       "      <td>3</td>\n",
       "      <td>bF7E1KySnh</td>\n",
       "      <td>2023-12-09</td>\n",
       "      <td>2023-12-12</td>\n",
       "      <td>2023-12-14</td>\n",
       "      <td>2023-12-14</td>\n",
       "      <td>2023-12-14</td>\n",
       "      <td>1</td>\n",
       "      <td>12</td>\n",
       "      <td>22.0</td>\n",
       "    </tr>\n",
       "    <tr>\n",
       "      <th>3</th>\n",
       "      <td>4</td>\n",
       "      <td>A8sEjw9taT</td>\n",
       "      <td>2023-11-21</td>\n",
       "      <td>2023-11-27</td>\n",
       "      <td>2023-12-18</td>\n",
       "      <td>NaN</td>\n",
       "      <td>2023-12-18</td>\n",
       "      <td>1</td>\n",
       "      <td>13</td>\n",
       "      <td>24.0</td>\n",
       "    </tr>\n",
       "    <tr>\n",
       "      <th>4</th>\n",
       "      <td>5</td>\n",
       "      <td>CfqY4VBedF</td>\n",
       "      <td>2023-12-11</td>\n",
       "      <td>2023-12-12</td>\n",
       "      <td>2023-12-18</td>\n",
       "      <td>2023-12-18</td>\n",
       "      <td>2023-12-18</td>\n",
       "      <td>1</td>\n",
       "      <td>12</td>\n",
       "      <td>24.0</td>\n",
       "    </tr>\n",
       "  </tbody>\n",
       "</table>\n",
       "</div>"
      ],
      "text/plain": [
       "   Unnamed: 0          id dataInicioSintomas dataNotificacao dataAtualizacao  \\\n",
       "0           1  uVOUpcAwja         2023-11-25      2023-11-27      2023-12-12   \n",
       "1           2  Cg7XavXuQq         2023-12-01      2023-12-05      2023-12-12   \n",
       "2           3  bF7E1KySnh         2023-12-09      2023-12-12      2023-12-14   \n",
       "3           4  A8sEjw9taT         2023-11-21      2023-11-27      2023-12-18   \n",
       "4           5  CfqY4VBedF         2023-12-11      2023-12-12      2023-12-18   \n",
       "\n",
       "  dataEncerramento dataRegistro  regiao  estadoIBGE  idade  \n",
       "0       2023-12-12   2023-11-27       1          12   25.0  \n",
       "1       2023-12-11   2023-12-07       1          13   26.0  \n",
       "2       2023-12-14   2023-12-14       1          12   22.0  \n",
       "3              NaN   2023-12-18       1          13   24.0  \n",
       "4       2023-12-18   2023-12-18       1          12   24.0  "
      ]
     },
     "execution_count": 5,
     "metadata": {},
     "output_type": "execute_result"
    }
   ],
   "source": [
    "df.head()"
   ]
  },
  {
   "cell_type": "markdown",
   "id": "aead8796-b7a9-42c9-9176-a6fffdb71b21",
   "metadata": {},
   "source": [
    "# Tratamento de dados"
   ]
  },
  {
   "cell_type": "code",
   "execution_count": 6,
   "id": "fa09c6cb-596e-4f5d-bfd8-d0f00ea2b4bb",
   "metadata": {},
   "outputs": [
    {
     "data": {
      "text/plain": [
       "(2704725, 10)"
      ]
     },
     "execution_count": 6,
     "metadata": {},
     "output_type": "execute_result"
    }
   ],
   "source": [
    "df.shape"
   ]
  },
  {
   "cell_type": "code",
   "execution_count": 7,
   "id": "07102aaa-a0c6-4e36-8934-0ed599591a2d",
   "metadata": {},
   "outputs": [
    {
     "data": {
      "text/html": [
       "<div>\n",
       "<style scoped>\n",
       "    .dataframe tbody tr th:only-of-type {\n",
       "        vertical-align: middle;\n",
       "    }\n",
       "\n",
       "    .dataframe tbody tr th {\n",
       "        vertical-align: top;\n",
       "    }\n",
       "\n",
       "    .dataframe thead th {\n",
       "        text-align: right;\n",
       "    }\n",
       "</style>\n",
       "<table border=\"1\" class=\"dataframe\">\n",
       "  <thead>\n",
       "    <tr style=\"text-align: right;\">\n",
       "      <th></th>\n",
       "      <th>dataInicioSintomas</th>\n",
       "      <th>dataNotificacao</th>\n",
       "      <th>dataAtualizacao</th>\n",
       "      <th>dataEncerramento</th>\n",
       "      <th>dataRegistro</th>\n",
       "      <th>regiao</th>\n",
       "      <th>estadoIBGE</th>\n",
       "      <th>idade</th>\n",
       "    </tr>\n",
       "  </thead>\n",
       "  <tbody>\n",
       "    <tr>\n",
       "      <th>0</th>\n",
       "      <td>2023-11-25</td>\n",
       "      <td>2023-11-27</td>\n",
       "      <td>2023-12-12</td>\n",
       "      <td>2023-12-12</td>\n",
       "      <td>2023-11-27</td>\n",
       "      <td>1</td>\n",
       "      <td>12</td>\n",
       "      <td>25.0</td>\n",
       "    </tr>\n",
       "    <tr>\n",
       "      <th>1</th>\n",
       "      <td>2023-12-01</td>\n",
       "      <td>2023-12-05</td>\n",
       "      <td>2023-12-12</td>\n",
       "      <td>2023-12-11</td>\n",
       "      <td>2023-12-07</td>\n",
       "      <td>1</td>\n",
       "      <td>13</td>\n",
       "      <td>26.0</td>\n",
       "    </tr>\n",
       "    <tr>\n",
       "      <th>2</th>\n",
       "      <td>2023-12-09</td>\n",
       "      <td>2023-12-12</td>\n",
       "      <td>2023-12-14</td>\n",
       "      <td>2023-12-14</td>\n",
       "      <td>2023-12-14</td>\n",
       "      <td>1</td>\n",
       "      <td>12</td>\n",
       "      <td>22.0</td>\n",
       "    </tr>\n",
       "    <tr>\n",
       "      <th>3</th>\n",
       "      <td>2023-11-21</td>\n",
       "      <td>2023-11-27</td>\n",
       "      <td>2023-12-18</td>\n",
       "      <td>NaN</td>\n",
       "      <td>2023-12-18</td>\n",
       "      <td>1</td>\n",
       "      <td>13</td>\n",
       "      <td>24.0</td>\n",
       "    </tr>\n",
       "    <tr>\n",
       "      <th>4</th>\n",
       "      <td>2023-12-11</td>\n",
       "      <td>2023-12-12</td>\n",
       "      <td>2023-12-18</td>\n",
       "      <td>2023-12-18</td>\n",
       "      <td>2023-12-18</td>\n",
       "      <td>1</td>\n",
       "      <td>12</td>\n",
       "      <td>24.0</td>\n",
       "    </tr>\n",
       "  </tbody>\n",
       "</table>\n",
       "</div>"
      ],
      "text/plain": [
       "  dataInicioSintomas dataNotificacao dataAtualizacao dataEncerramento  \\\n",
       "0         2023-11-25      2023-11-27      2023-12-12       2023-12-12   \n",
       "1         2023-12-01      2023-12-05      2023-12-12       2023-12-11   \n",
       "2         2023-12-09      2023-12-12      2023-12-14       2023-12-14   \n",
       "3         2023-11-21      2023-11-27      2023-12-18              NaN   \n",
       "4         2023-12-11      2023-12-12      2023-12-18       2023-12-18   \n",
       "\n",
       "  dataRegistro  regiao  estadoIBGE  idade  \n",
       "0   2023-11-27       1          12   25.0  \n",
       "1   2023-12-07       1          13   26.0  \n",
       "2   2023-12-14       1          12   22.0  \n",
       "3   2023-12-18       1          13   24.0  \n",
       "4   2023-12-18       1          12   24.0  "
      ]
     },
     "execution_count": 7,
     "metadata": {},
     "output_type": "execute_result"
    }
   ],
   "source": [
    "df1 = df[[\n",
    "    'dataInicioSintomas',\n",
    "    'dataNotificacao',\n",
    "    'dataAtualizacao',\n",
    "    'dataEncerramento',\n",
    "    'dataRegistro',\n",
    "    'regiao',\n",
    "    'estadoIBGE',\n",
    "    'idade'\n",
    "]]\n",
    "\n",
    "df1.head()"
   ]
  },
  {
   "cell_type": "code",
   "execution_count": 8,
   "id": "c4d33338-9bf9-440b-9440-5e322a83f0bf",
   "metadata": {},
   "outputs": [
    {
     "name": "stdout",
     "output_type": "stream",
     "text": [
      "dataInicioSintomas          0\n",
      "dataNotificacao             0\n",
      "dataAtualizacao             0\n",
      "dataEncerramento      1130459\n",
      "dataRegistro                0\n",
      "regiao                      0\n",
      "estadoIBGE                  0\n",
      "idade                    2226\n",
      "dtype: int64\n"
     ]
    }
   ],
   "source": [
    "print(df1.isna().sum())"
   ]
  },
  {
   "cell_type": "markdown",
   "id": "0bb7f327-4085-4545-b57e-650b572ac7a9",
   "metadata": {},
   "source": [
    "## Criar série temporal por semana epidemiológica"
   ]
  },
  {
   "cell_type": "code",
   "execution_count": 10,
   "id": "11cb63db-ff8c-487f-b397-0c53152929fb",
   "metadata": {},
   "outputs": [
    {
     "name": "stdout",
     "output_type": "stream",
     "text": [
      "       dt_event  num_semana_epi   count\n",
      "0    2023-01-07               1  103376\n",
      "1    2023-01-14               2   64015\n",
      "2    2023-01-21               3   45188\n",
      "3    2023-01-28               4   37199\n",
      "4    2023-02-04               5   35865\n",
      "..          ...             ...     ...\n",
      "99   2024-11-30              48   13603\n",
      "100  2024-12-07              49   16290\n",
      "101  2024-12-14              50   14014\n",
      "102  2024-12-21              51    6288\n",
      "103  2024-12-28              52       3\n",
      "\n",
      "[104 rows x 3 columns]\n"
     ]
    }
   ],
   "source": [
    "# Converter para datetime\n",
    "df['dataInicioSintomas'] = pd.to_datetime(df['dataInicioSintomas'])\n",
    "\n",
    "# Calcular semana epidemiológica e ano epidemiológico\n",
    "df['semana_epi'] = df['dataInicioSintomas'].apply(lambda x: Week.fromdate(x).week)\n",
    "df['ano_epi'] = df['dataInicioSintomas'].apply(lambda x: Week.fromdate(x).year)\n",
    "\n",
    "# Criar coluna dt_event com a data correspondente ao último dia da semana (domingo)\n",
    "df['dt_event'] = df.apply(lambda row: Week(row['ano_epi'], row['semana_epi']).enddate(), axis=1)\n",
    "\n",
    "# Criar uma coluna com o número da semana epidemiológica\n",
    "df['num_semana_epi'] = df['semana_epi']\n",
    "\n",
    "# Agrupar por dt_event e contar ocorrências\n",
    "serie_semana = df.groupby(['dt_event', 'num_semana_epi']).size().reset_index(name='count')\n",
    "\n",
    "# Mostrar a série temporal semanal com a coluna de semana epidemiológica\n",
    "print(serie_semana)"
   ]
  },
  {
   "cell_type": "code",
   "execution_count": 15,
   "id": "06d95162-8473-4546-b8aa-72846082e4ad",
   "metadata": {},
   "outputs": [
    {
     "data": {
      "text/plain": [
       "dt_event          object\n",
       "num_semana_epi     int64\n",
       "count              int64\n",
       "dtype: object"
      ]
     },
     "execution_count": 15,
     "metadata": {},
     "output_type": "execute_result"
    }
   ],
   "source": [
    "serie_semana.dtypes"
   ]
  },
  {
   "cell_type": "code",
   "execution_count": 36,
   "id": "f8d05b60-41a0-4994-8b75-1c1a412f222a",
   "metadata": {},
   "outputs": [
    {
     "data": {
      "image/png": "[encoded data removed]",
      "text/plain": [
       "<Figure size 1000x600 with 1 Axes>"
      ]
     },
     "metadata": {},
     "output_type": "display_data"
    }
   ],
   "source": [
    "# Visualização dos dados\n",
    "plt.figure(figsize=(10, 6))\n",
    "plt.plot(serie_semana['dt_event'], serie_semana['count'], color='b')\n",
    "\n",
    "plt.title('Casos leves de COVID-19 por semana epidemiológica.', fontsize=14)\n",
    "plt.xticks(rotation=30, ha='right')\n",
    "plt.grid(visible=True, linestyle='--', alpha=0.6)\n",
    "plt.xlabel('Data (Último dia da semana)', fontsize=12)\n",
    "plt.ylabel('Número de casos', fontsize=12)\n",
    "\n",
    "plt.show()"
   ]
  },
  {
   "cell_type": "markdown",
   "id": "1a2046be-44a8-4629-aaa1-33b8c5effe88",
   "metadata": {},
   "source": [
    "# Análise exploratória da ST"
   ]
  },
  {
   "cell_type": "code",
   "execution_count": null,
   "id": "aeda68b2-83d7-4d93-b63e-f53716843490",
   "metadata": {},
   "outputs": [],
   "source": []
  }
 ],
 "metadata": {
  "kernelspec": {
   "display_name": "Python 3 (ipykernel)",
   "language": "python",
   "name": "python3"
  },
  "language_info": {
   "codemirror_mode": {
    "name": "ipython",
    "version": 3
   },
   "file_extension": ".py",
   "mimetype": "text/x-python",
   "name": "python",
   "nbconvert_exporter": "python",
   "pygments_lexer": "ipython3",
   "version": "3.13.1"
  }
 },
 "nbformat": 4,
 "nbformat_minor": 5
}
